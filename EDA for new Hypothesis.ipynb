{
 "cells": [
  {
   "cell_type": "markdown",
   "metadata": {},
   "source": [
    "## HYPOTHESIS\n",
    "##### MALE/FEMALE of a particular age whose diabetes result are high/very high are prone to get re-admitted to the hospital in <30 days "
   ]
  },
  {
   "cell_type": "code",
   "execution_count": null,
   "metadata": {},
   "outputs": [],
   "source": [
    "#dia1,diag2,diag3=250.xx & a1cresult >7,>8 and diabetes med column==yes and readmitted==1"
   ]
  },
  {
   "cell_type": "code",
   "execution_count": 1,
   "metadata": {},
   "outputs": [],
   "source": [
    "import os\n",
    "import warnings\n",
    "warnings.filterwarnings('ignore')\n",
    "os.getcwd()\n",
    "os.chdir('C:\\\\Users\\\\umairansari\\\\Desktop')\n",
    "import pandas as pd\n",
    "import numpy as np\n",
    "import matplotlib.pyplot as plt\n",
    "#from pylab import *\n",
    "%matplotlib inline \n",
    "import gc\n",
    "import seaborn as sns"
   ]
  },
  {
   "cell_type": "code",
   "execution_count": 2,
   "metadata": {},
   "outputs": [
    {
     "data": {
      "text/html": [
       "<div>\n",
       "<style scoped>\n",
       "    .dataframe tbody tr th:only-of-type {\n",
       "        vertical-align: middle;\n",
       "    }\n",
       "\n",
       "    .dataframe tbody tr th {\n",
       "        vertical-align: top;\n",
       "    }\n",
       "\n",
       "    .dataframe thead th {\n",
       "        text-align: right;\n",
       "    }\n",
       "</style>\n",
       "<table border=\"1\" class=\"dataframe\">\n",
       "  <thead>\n",
       "    <tr style=\"text-align: right;\">\n",
       "      <th></th>\n",
       "      <th>Female</th>\n",
       "      <th>race</th>\n",
       "      <th>age</th>\n",
       "      <th>num_lab_procedures</th>\n",
       "      <th>num_medications</th>\n",
       "      <th>diag_1</th>\n",
       "      <th>diag_2</th>\n",
       "      <th>diag_3</th>\n",
       "      <th>number_diagnoses</th>\n",
       "      <th>max_glu_serum</th>\n",
       "      <th>...</th>\n",
       "      <th>acarbose</th>\n",
       "      <th>miglitol</th>\n",
       "      <th>tolazamide</th>\n",
       "      <th>insulin</th>\n",
       "      <th>glyburide-metformin</th>\n",
       "      <th>glipizide-metformin</th>\n",
       "      <th>metformin-rosiglitazone</th>\n",
       "      <th>change</th>\n",
       "      <th>diabetesMed</th>\n",
       "      <th>readmitted</th>\n",
       "    </tr>\n",
       "  </thead>\n",
       "  <tbody>\n",
       "    <tr>\n",
       "      <td>0</td>\n",
       "      <td>0</td>\n",
       "      <td>1</td>\n",
       "      <td>9</td>\n",
       "      <td>64</td>\n",
       "      <td>18</td>\n",
       "      <td>0</td>\n",
       "      <td>0</td>\n",
       "      <td>0</td>\n",
       "      <td>7</td>\n",
       "      <td>0</td>\n",
       "      <td>...</td>\n",
       "      <td>0</td>\n",
       "      <td>0</td>\n",
       "      <td>0</td>\n",
       "      <td>0</td>\n",
       "      <td>0</td>\n",
       "      <td>0</td>\n",
       "      <td>0</td>\n",
       "      <td>1</td>\n",
       "      <td>1</td>\n",
       "      <td>0</td>\n",
       "    </tr>\n",
       "    <tr>\n",
       "      <td>1</td>\n",
       "      <td>1</td>\n",
       "      <td>1</td>\n",
       "      <td>8</td>\n",
       "      <td>34</td>\n",
       "      <td>17</td>\n",
       "      <td>0</td>\n",
       "      <td>0</td>\n",
       "      <td>0</td>\n",
       "      <td>7</td>\n",
       "      <td>0</td>\n",
       "      <td>...</td>\n",
       "      <td>0</td>\n",
       "      <td>0</td>\n",
       "      <td>0</td>\n",
       "      <td>2</td>\n",
       "      <td>0</td>\n",
       "      <td>0</td>\n",
       "      <td>0</td>\n",
       "      <td>1</td>\n",
       "      <td>1</td>\n",
       "      <td>1</td>\n",
       "    </tr>\n",
       "    <tr>\n",
       "      <td>2</td>\n",
       "      <td>1</td>\n",
       "      <td>5</td>\n",
       "      <td>6</td>\n",
       "      <td>53</td>\n",
       "      <td>6</td>\n",
       "      <td>0</td>\n",
       "      <td>1</td>\n",
       "      <td>0</td>\n",
       "      <td>3</td>\n",
       "      <td>0</td>\n",
       "      <td>...</td>\n",
       "      <td>0</td>\n",
       "      <td>0</td>\n",
       "      <td>0</td>\n",
       "      <td>2</td>\n",
       "      <td>0</td>\n",
       "      <td>0</td>\n",
       "      <td>0</td>\n",
       "      <td>1</td>\n",
       "      <td>1</td>\n",
       "      <td>0</td>\n",
       "    </tr>\n",
       "    <tr>\n",
       "      <td>3</td>\n",
       "      <td>0</td>\n",
       "      <td>1</td>\n",
       "      <td>7</td>\n",
       "      <td>59</td>\n",
       "      <td>12</td>\n",
       "      <td>0</td>\n",
       "      <td>0</td>\n",
       "      <td>0</td>\n",
       "      <td>7</td>\n",
       "      <td>0</td>\n",
       "      <td>...</td>\n",
       "      <td>0</td>\n",
       "      <td>0</td>\n",
       "      <td>0</td>\n",
       "      <td>1</td>\n",
       "      <td>0</td>\n",
       "      <td>0</td>\n",
       "      <td>0</td>\n",
       "      <td>0</td>\n",
       "      <td>1</td>\n",
       "      <td>0</td>\n",
       "    </tr>\n",
       "    <tr>\n",
       "      <td>4</td>\n",
       "      <td>1</td>\n",
       "      <td>1</td>\n",
       "      <td>9</td>\n",
       "      <td>34</td>\n",
       "      <td>11</td>\n",
       "      <td>0</td>\n",
       "      <td>0</td>\n",
       "      <td>0</td>\n",
       "      <td>8</td>\n",
       "      <td>0</td>\n",
       "      <td>...</td>\n",
       "      <td>0</td>\n",
       "      <td>0</td>\n",
       "      <td>0</td>\n",
       "      <td>0</td>\n",
       "      <td>0</td>\n",
       "      <td>0</td>\n",
       "      <td>0</td>\n",
       "      <td>0</td>\n",
       "      <td>0</td>\n",
       "      <td>1</td>\n",
       "    </tr>\n",
       "  </tbody>\n",
       "</table>\n",
       "<p>5 rows × 31 columns</p>\n",
       "</div>"
      ],
      "text/plain": [
       "   Female  race  age  num_lab_procedures  num_medications  diag_1  diag_2  \\\n",
       "0       0     1    9                  64               18       0       0   \n",
       "1       1     1    8                  34               17       0       0   \n",
       "2       1     5    6                  53                6       0       1   \n",
       "3       0     1    7                  59               12       0       0   \n",
       "4       1     1    9                  34               11       0       0   \n",
       "\n",
       "   diag_3  number_diagnoses  max_glu_serum  ...  acarbose  miglitol  \\\n",
       "0       0                 7              0  ...         0         0   \n",
       "1       0                 7              0  ...         0         0   \n",
       "2       0                 3              0  ...         0         0   \n",
       "3       0                 7              0  ...         0         0   \n",
       "4       0                 8              0  ...         0         0   \n",
       "\n",
       "   tolazamide  insulin  glyburide-metformin  glipizide-metformin  \\\n",
       "0           0        0                    0                    0   \n",
       "1           0        2                    0                    0   \n",
       "2           0        2                    0                    0   \n",
       "3           0        1                    0                    0   \n",
       "4           0        0                    0                    0   \n",
       "\n",
       "   metformin-rosiglitazone  change  diabetesMed  readmitted  \n",
       "0                        0       1            1           0  \n",
       "1                        0       1            1           1  \n",
       "2                        0       1            1           0  \n",
       "3                        0       0            1           0  \n",
       "4                        0       0            0           1  \n",
       "\n",
       "[5 rows x 31 columns]"
      ]
     },
     "execution_count": 2,
     "metadata": {},
     "output_type": "execute_result"
    }
   ],
   "source": [
    "data=pd.read_csv(\"clean_data.csv\")\n",
    "data.head()\n",
    "\n"
   ]
  },
  {
   "cell_type": "markdown",
   "metadata": {},
   "source": [
    "# OLD CODE FOR EDA"
   ]
  },
  {
   "cell_type": "code",
   "execution_count": null,
   "metadata": {},
   "outputs": [],
   "source": [
    "# data=pd.read_csv(\"dropped_columns_data.csv\")\n",
    "# data.head()\n",
    "\n",
    "\n",
    "\n",
    "# # print(data[\"A1Cresult\"].value_counts())\n",
    "# # plt.figure(figsize=(10,6))\n",
    "# # plt.title(\"Age vs readmission rates\")\n",
    "# # sns.lineplot(data[\"age\"],data[\"readmitted\"])\n",
    "# # plt.xlabel(\"The Age Range\")\n",
    "# # plt.ylabel(\"Number of people admitted\")\n",
    "\n",
    "# # plt.figure(figsize=(10,6))\n",
    "# # plt.title(\"Age vs people suffering from Diabetes \")\n",
    "# # sns.lineplot(data[\"age\"],data[\"A1Cresult\"])\n",
    "# # plt.xlabel(\"The Age Range\")\n",
    "# # plt.ylabel(\"Number of people Suffering\")\n",
    "\n",
    "# # #number of males suffering from diabetes\n",
    "# # data_male=data[data[\"gender\"]==2]\n",
    "# # plt.figure(figsize=(10,6))\n",
    "# # plt.title(\"Age vs Males suffering from Diabetes \")\n",
    "# # sns.lineplot(data_male[\"age\"],data_male[\"A1Cresult\"])\n",
    "# # plt.xlabel(\"The Age Range\")\n",
    "# # plt.ylabel(\"Number of people Suffering\")\n",
    "\n",
    "# # #number of females suffering from diabetes\n",
    "# # data_female=data[data[\"gender\"]==1]\n",
    "# # plt.figure(figsize=(10,6))\n",
    "# # plt.title(\"Age vs females suffering from Diabetes \")\n",
    "# # sns.lineplot(data_female[\"age\"],data_female[\"A1Cresult\"])\n",
    "# # plt.xlabel(\"The Age Range\")\n",
    "# # plt.ylabel(\"Number of people Suffering\")\n",
    "\n",
    "\n",
    "# # data_females=data[data[\"gender\"]==1]\n",
    "# # females_quantity=data_females.shape[0]\n",
    "# # plt.figure(figsize=(10,6))\n",
    "# # plt.title(\"Out of {} females {} males have normal diabetes,{} have severe and {} have most severe\"\n",
    "# #           .format(females_quantity,\n",
    "# #                   (data_females[\"A1Cresult\"][data_females[\"A1Cresult\"]==3].count()),\n",
    "# #                   (data_females[\"A1Cresult\"][data_females[\"A1Cresult\"]==1].count()),\n",
    "# #                   (data_females[\"A1Cresult\"][data_females[\"A1Cresult\"]==2].count())))\n",
    "\n",
    "# # data_females[\"A1Cresult\"].plot(kind='hist',color=\"green\")\n",
    "# # plt.xlabel(\"(Category of Diabetes)1:severe,2:more severe,3:normal\")\n",
    "# # plt.xticks(ticks=[1.0,2.0,3.0])\n",
    "# # plt.ylabel(\"Number of persons suffering\")\n",
    "\n",
    "\n",
    "# # data_females_lessthan30=data[data[\"gender\"]==1]\n",
    "# # data_females_lessthan30[\"A1Cresult\"]=data_females_lessthan30[\"A1Cresult\"].astype(\"int16\")\n",
    "# # females_quantity=data_females_lessthan30.shape[0]\n",
    "# # data_females_lessthan30=data_females_lessthan30[data_females_lessthan30[\"readmitted\"]==0]\n",
    "# # plt.figure(figsize=(10,6))\n",
    "# # plt.title(\"Out of {} females {} are readmitted and most of them are suffering from type2 diabetes and are not readmitted\"\n",
    "# #           .format(females_quantity,(data_females_lessthan30.shape[0])))\n",
    "# # data_females_lessthan30[\"A1Cresult\"].plot(kind='hist')\n",
    "# # plt.xlabel(\"Diabetes Type\")\n",
    "# # plt.ylabel(\"Number of patients\")\n",
    "\n",
    "\n",
    "\n",
    "# # data_females_lessthan30=data[data[\"gender\"]==1]\n",
    "# # data_females_lessthan30[\"A1Cresult\"]=data_females_lessthan30[\"A1Cresult\"].astype(\"int16\")\n",
    "# # females_quantity=data_females_lessthan30.shape[0]\n",
    "# # data_females_lessthan30=data_females_lessthan30[data_females_lessthan30[\"readmitted\"]==0]\n",
    "# # plt.figure(figsize=(10,6))\n",
    "# # plt.title(\"Out of {} females {} are readmitted and most of them are suffering from type2 diabetes and are not readmitted\"\n",
    "# #           .format(females_quantity,(data_females_lessthan30.shape[0])))\n",
    "# # sns.barplot(x=data_females_lessthan30[\"age\"],y=data_females_lessthan30[\"num_lab_procedures\"],hue=\n",
    "# #             data_females_lessthan30[\"A1Cresult\"])\n",
    "# # plt.legend()\n",
    "# # plt.xlabel(\"Age Range\")\n",
    "# # #plt.yticks(ticks=[1.0,2.0,3.0])\n",
    "# # #plt.ylabel(\"Type of diabetes-1:high,2:very high 3:normal\")\n",
    "# # #print(data_females_lessthan30.shape)\n",
    "# # #data_females_lessthan30[\"A1Cresult\"].value_counts()\n",
    "# # #conclusion:=very high diabetic people are having more chances \n",
    "\n",
    "# # #-----------------------------------------------------------------------------------------------------------------\n",
    "# # data_females_lessthan30=data[data[\"gender\"]==1]\n",
    "# # data_females_lessthan30[\"A1Cresult\"]=data_females_lessthan30[\"A1Cresult\"].astype(\"int16\")\n",
    "# # females_quantity=data_females_lessthan30.shape[0]\n",
    "# # data_females_lessthan30=data_females_lessthan30[data_females_lessthan30[\"readmitted\"]==1]\n",
    "# # plt.figure(figsize=(10,6))\n",
    "# # plt.title(\"Out of {} females {} are readmitted and most of them are suffering from type2 diabetes also got readmitted in more than 30 days\"\n",
    "# #           .format(females_quantity,(data_females_lessthan30.shape[0])))\n",
    "# # data_females_lessthan30[\"A1Cresult\"].plot(kind='hist')\n",
    "# # plt.xlabel(\"Diabetes Type\")\n",
    "# # plt.ylabel(\"Number of patients\")\n",
    "\n",
    "# # #-----------------------------------------------------------------------------------------------------------------\n",
    "\n",
    "# # data_females_lessthan30=data[data[\"gender\"]==1]\n",
    "# # females_quantity=data_females_lessthan30.shape[0]\n",
    "# # data_females_lessthan30=data_females_lessthan30[data_females_lessthan30[\"readmitted\"]==1]\n",
    "# # plt.figure(figsize=(10,6))\n",
    "# # plt.title(\"Out of {} females {} are readmitted and most of them are suffering from type2 diabetes diabetes and also got readmitted in more than 30 days\"\n",
    "# #           .format(females_quantity,(data_females_lessthan30.shape[0])))\n",
    "# # sns.barplot(data_females_lessthan30[\"age\"],y=data_females_lessthan30[\"num_lab_procedures\"],hue=data_females_lessthan30[\"A1Cresult\"])\n",
    "# # plt.xlabel(\"Age Range\")\n",
    "# # plt.ylabel(\"Type of diabetes-1:high,2:very high 3:normal with lab procedures\")\n",
    "# # #conclusion:=very high diabetic people are having more chances \n",
    "\n",
    "# # #-----------------------------------------------------------------------------------------------------------------\n",
    "# # data_females_lessthan30=data[data[\"gender\"]==1]\n",
    "# # females_quantity=data_females_lessthan30.shape[0]\n",
    "# # data_females_lessthan30=data_females_lessthan30[data_females_lessthan30[\"readmitted\"]==2]\n",
    "# # plt.figure(figsize=(10,6))\n",
    "# # plt.title(\"Out of {} females {} are readmitted and most of them are suffering from type2 diabetes and are readmitted in less than 30 days\"\n",
    "# #           .format(females_quantity,(data_females_lessthan30.shape[0])))\n",
    "# # data_females_lessthan30[\"A1Cresult\"].plot(kind='hist')\n",
    "# # plt.xlabel(\"Diabetes Type\")\n",
    "# # plt.ylabel(\"Number of patients\")\n",
    "\n",
    "# # #conclusion:=very high diabetic people are having more chances \n",
    "\n",
    "# # #-----------------------------------------------------------------------------------------------------------------\n",
    "\n",
    "# # data_females_lessthan30=data[data[\"gender\"]==1]\n",
    "# # females_quantity=data_females_lessthan30.shape[0]\n",
    "# # data_females_lessthan30=data_females_lessthan30[data_females_lessthan30[\"readmitted\"]==2]\n",
    "# # plt.figure(figsize=(10,6))\n",
    "# # plt.title(\"Out of {} females {} are readmitted and most of them are suffering from type2 diabetes and are readmitted in less than 30 days\"\n",
    "# #           .format(females_quantity,(data_females_lessthan30.shape[0])))\n",
    "# # sns.barplot(data_females_lessthan30[\"age\"],y=data_females_lessthan30[\"num_lab_procedures\"],hue=data_females_lessthan30[\"A1Cresult\"])\n",
    "# # plt.xlabel(\"Age Range\")\n",
    "# # plt.ylabel(\"Type of diabetes-1:high,2:very high 3:normal with lab procedures\")\n",
    "\n",
    "# # #conclusion:=very high diabetic people are having more chances \n",
    "\n",
    "# # #-----------------------------------------------------------------------------------------------------------------\n",
    "\n",
    "\n",
    "# # data_males=data[data[\"gender\"]==2]\n",
    "# # males_quantity=data_males.shape[0]\n",
    "# # plt.figure(figsize=(10,6))\n",
    "# # plt.title(\"Out of {} Males {} males have normal diabetes,{} have severe and {} have most severe\"\n",
    "# #           .format(males_quantity,\n",
    "# #                   (data_males[\"A1Cresult\"][data_males[\"A1Cresult\"]==3].count()),\n",
    "# #                   (data_males[\"A1Cresult\"][data_males[\"A1Cresult\"]==1].count()),\n",
    "# #                   (data_males[\"A1Cresult\"][data_males[\"A1Cresult\"]==2].count())))\n",
    "\n",
    "# # data_males[\"A1Cresult\"].plot(kind='hist',color=\"green\")\n",
    "# # plt.xlabel(\"(Category of Diabetes)1:severe,2:more severe,3:normal\")\n",
    "# # plt.xticks(ticks=[1.0,2.0,3.0])\n",
    "# # plt.ylabel(\"Number of persons suffering\")\n",
    "\n",
    "# # #-----------------------------------------------------------------------------------------------------------------\n",
    "\n",
    "# # data_males_lessthan30=data[data[\"gender\"]==2]\n",
    "# # males_quantity=data_males_lessthan30.shape[0]\n",
    "# # data_males_lessthan30=data_males_lessthan30[data_males_lessthan30[\"readmitted\"]==0]\n",
    "# # plt.figure(figsize=(10,6))\n",
    "# # plt.title(\"Out of {} males {} are readmitted and most of them are suffering from type2 diabetes and are not readmitted\"\n",
    "# #           .format(males_quantity,(data_males_lessthan30.shape[0])))\n",
    "# # data_males_lessthan30[\"A1Cresult\"].plot(kind='hist')\n",
    "# # plt.xlabel(\"Diabetes Type\")\n",
    "# # plt.ylabel(\"Number of patients\")\n",
    "\n",
    "# # #conclusion:=very high diabetic people are having more chances \n",
    "\n",
    "# # #-----------------------------------------------------------------------------------------------------------------\n",
    "# # data_males_lessthan30=data[data[\"gender\"]==2]\n",
    "# # males_quantity=data_males_lessthan30.shape[0]\n",
    "# # data_males_lessthan30=data_males_lessthan30[data_males_lessthan30[\"readmitted\"]==0]\n",
    "# # plt.figure(figsize=(10,6))\n",
    "# # plt.title(\"Out of {} males {} are readmitted and most of them are suffering from type2 diabetes and are not readmitted\"\n",
    "# #           .format(males_quantity,(data_males_lessthan30.shape[0])))\n",
    "# # sns.barplot(data_males_lessthan30[\"age\"],data_males_lessthan30[\"num_lab_procedures\"],hue=data_males_lessthan30[\"A1Cresult\"])\n",
    "# # plt.xlabel(\"Age Range\")\n",
    "# # plt.ylabel(\"Type of diabetes-1:high,2:very high 3:normal with lab procedures\")\n",
    "\n",
    "# # #conclusion:=very high diabetic people are having more chances \n",
    "\n",
    "# # #-----------------------------------------------------------------------------------------------------------------\n",
    "# # data_males_lessthan30=data[data[\"gender\"]==2]\n",
    "# # males_quantity=data_males_lessthan30.shape[0]\n",
    "# # data_males_lessthan30=data_males_lessthan30[data_males_lessthan30[\"readmitted\"]==1]\n",
    "# # plt.figure(figsize=(10,6))\n",
    "# # plt.title(\"Out of {} Males {} are readmitted and most of them are suffering from type2 diabetes and also got readmitted in more than 30 days\"\n",
    "# #           .format(males_quantity,(data_males_lessthan30.shape[0])))\n",
    "# # data_males_lessthan30[\"A1Cresult\"].plot(kind=\"hist\")\n",
    "# # plt.xlabel(\"Diabetes Type\")\n",
    "# # plt.ylabel(\"Number of patients\")\n",
    "\n",
    "# # #conclusion:=very high diabetic people are having more chances \n",
    "\n",
    "# # #-----------------------------------------------------------------------------------------------------------------\n",
    "# # data_males_lessthan30=data[data[\"gender\"]==2]\n",
    "# # males_quantity=data_males_lessthan30.shape[0]\n",
    "# # data_males_lessthan30=data_males_lessthan30[data_males_lessthan30[\"readmitted\"]==1]\n",
    "# # plt.figure(figsize=(10,6))\n",
    "# # plt.title(\"Out of {} Males {} are readmitted and most of them are suffering from type2 diabetes and also got readmitted in more than 30 days\"\n",
    "# #           .format(males_quantity,(data_males_lessthan30.shape[0])))\n",
    "# # sns.barplot(data_males_lessthan30[\"age\"],data_males_lessthan30[\"num_lab_procedures\"],hue=data_males_lessthan30[\"A1Cresult\"])\n",
    "# # plt.xlabel(\"Age Range\")\n",
    "# # #plt.yticks(ticks=[1.0,2.0,3.0])\n",
    "# # plt.ylabel(\"Type of diabetes-1:high,2:very high 3:normal with lab procedures\")\n",
    "\n",
    "# # #conclusion:=very high diabetic people are having more chances \n",
    "\n",
    "# # #-----------------------------------------------------------------------------------------------------------------\n",
    "# # data_males_lessthan30=data[data[\"gender\"]==2]\n",
    "# # males_quantity=data_males_lessthan30.shape[0]\n",
    "# # data_males_lessthan30=data_males_lessthan30[data_males_lessthan30[\"readmitted\"]==2]\n",
    "# # plt.figure(figsize=(10,6))\n",
    "# # plt.title(\"Out of {} Males {} are readmitted and most of them are suffering from type2 diabetes and also got readmitted in less than 30 days\"\n",
    "# #           .format(males_quantity,(data_males_lessthan30.shape[0])))\n",
    "# # data_males_lessthan30[\"A1Cresult\"].plot(kind=\"hist\")\n",
    "# # plt.xlabel(\"Diabetes Type\")\n",
    "# # plt.ylabel(\"Number of patients\")\n",
    "\n",
    "# # #-----------------------------------------------------------------------------------------------------------------\n",
    "# # data_males_lessthan30=data[data[\"gender\"]==2]\n",
    "# # males_quantity=data_males_lessthan30.shape[0]\n",
    "# # data_males_lessthan30=data_males_lessthan30[data_males_lessthan30[\"readmitted\"]==2]\n",
    "# # plt.figure(figsize=(10,6))\n",
    "# # plt.title(\"Out of {} Males {} are readmitted and most of them are suffering from type2 diabetes and also got readmitted in less than 30 days\"\n",
    "# #           .format(males_quantity,(data_males_lessthan30.shape[0])))\n",
    "# # sns.barplot(data_males_lessthan30[\"age\"],data_males_lessthan30[\"num_lab_procedures\"],hue=data_males_lessthan30[\"A1Cresult\"])\n",
    "# # plt.xlabel(\"Age Range\")\n",
    "# # #plt.yticks(ticks=[1.0,2.0,3.0])\n",
    "# # plt.ylabel(\"Type of diabetes-1:high,2:very high 3:normal with lab procedures\")\n",
    "\n",
    "# # #conclusion:=very high diabetic people are having more chances \n",
    "# # #conclusion:=very high diabetic people are having more chances "
   ]
  },
  {
   "cell_type": "code",
   "execution_count": 3,
   "metadata": {},
   "outputs": [
    {
     "name": "stdout",
     "output_type": "stream",
     "text": [
      "Wall time: 328 ms\n"
     ]
    },
    {
     "data": {
      "text/plain": [
       "Text(0.5, 0, 'Age number encoded')"
      ]
     },
     "execution_count": 3,
     "metadata": {},
     "output_type": "execute_result"
    },
    {
     "data": {
      "image/png": "[encoded data removed]",
      "text/plain": [
       "<Figure size 720x432 with 1 Axes>"
      ]
     },
     "metadata": {
      "needs_background": "light"
     },
     "output_type": "display_data"
    }
   ],
   "source": [
    "%%time\n",
    "plt.figure(figsize=(10,6))\n",
    "data_readmitted_status_equals_1=data[data[\"readmitted\"]==1]\n",
    "data_readmitted_status_equals_1[\"age\"].plot(kind=\"hist\",color = 'green',bins=10)\n",
    "plt.title(\"Age VS Readmitted==1\")\n",
    "plt.ylabel(\"Number of person\")\n",
    "plt.xticks(ticks=np.arange(1,11))\n",
    "plt.xlabel(\"Age number encoded\")"
   ]
  },
  {
   "cell_type": "code",
   "execution_count": 20,
   "metadata": {},
   "outputs": [
    {
     "data": {
      "text/plain": [
       "Text(0.5, 1.0, 'Normal Age vs diabetes(for severe >8)')"
      ]
     },
     "execution_count": 20,
     "metadata": {},
     "output_type": "execute_result"
    },
    {
     "data": {
      "image/png": "[encoded data removed]",
      "text/plain": [
       "<Figure size 720x576 with 1 Axes>"
      ]
     },
     "metadata": {
      "needs_background": "light"
     },
     "output_type": "display_data"
    },
    {
     "data": {
      "image/png": "[encoded data removed]",
      "text/plain": [
       "<Figure size 720x576 with 1 Axes>"
      ]
     },
     "metadata": {
      "needs_background": "light"
     },
     "output_type": "display_data"
    }
   ],
   "source": [
    "age_normal_a1cresult_2=data[data[\"A1Cresult\"]==2]\n",
    "age_normal_a1cresult_3=data[data[\"A1Cresult\"]==3]\n",
    "plt.figure(figsize=(10,8))\n",
    "subplot(2, 1, 1)\n",
    "#plt.title(\"Middle Age vs diabetes(for severe <8)\")\n",
    "age_normal_a1cresult_2[\"readmitted\"].plot(kind=\"hist\")\n",
    "plt.title(\"Normal Ages vs diabetes(for severe <7)\")\n",
    "plt.figure(figsize=(10,8))\n",
    "subplot(2,1,2)\n",
    "age_normal_a1cresult_3[\"readmitted\"].plot(kind=\"hist\",color=\"lightblue\")\n",
    "plt.title(\"Normal Age vs diabetes(for severe >8)\")"
   ]
  },
  {
   "cell_type": "code",
   "execution_count": 22,
   "metadata": {},
   "outputs": [
    {
     "data": {
      "text/plain": [
       "Text(0.5, 1.0, 'Middle Age vs diabetes(for severe >8)')"
      ]
     },
     "execution_count": 22,
     "metadata": {},
     "output_type": "execute_result"
    },
    {
     "data": {
      "image/png": "[encoded data removed]",
      "text/plain": [
       "<Figure size 720x576 with 1 Axes>"
      ]
     },
     "metadata": {
      "needs_background": "light"
     },
     "output_type": "display_data"
    },
    {
     "data": {
      "image/png": "[encoded data removed]",
      "text/plain": [
       "<Figure size 720x576 with 1 Axes>"
      ]
     },
     "metadata": {
      "needs_background": "light"
     },
     "output_type": "display_data"
    }
   ],
   "source": [
    "age_between_30_90=data[(data[\"age\"]>4) & (data[\"age\"]<10)]\n",
    "age_between_30_90_a1cresult_2=age_between_30_90[age_between_30_90[\"A1Cresult\"]==2]\n",
    "age_between_30_90_a1cresult_3=age_between_30_90[age_between_30_90[\"A1Cresult\"]==3]\n",
    "plt.figure(figsize=(10,8))\n",
    "subplot(2, 1, 1)\n",
    "#plt.title(\"Middle Age vs diabetes(for severe <8)\")\n",
    "age_between_30_90_a1cresult_2[\"readmitted\"].plot(kind=\"hist\")\n",
    "plt.title(\"Middle Age vs diabetes(for severe <7)\")\n",
    "plt.figure(figsize=(10,8))\n",
    "subplot(2,1,2)\n",
    "age_between_30_90_a1cresult_3[\"readmitted\"].plot(kind=\"hist\",color=\"orange\")\n",
    "plt.title(\"Middle Age vs diabetes(for severe >8)\")"
   ]
  },
  {
   "cell_type": "code",
   "execution_count": 23,
   "metadata": {},
   "outputs": [
    {
     "data": {
      "text/plain": [
       "Text(0.5, 1.0, 'Normal Age vs diabetes(for severe <7)with diabetes_med==no')"
      ]
     },
     "execution_count": 23,
     "metadata": {},
     "output_type": "execute_result"
    },
    {
     "data": {
      "image/png": "[encoded data removed]",
      "text/plain": [
       "<Figure size 720x576 with 1 Axes>"
      ]
     },
     "metadata": {
      "needs_background": "light"
     },
     "output_type": "display_data"
    },
    {
     "data": {
      "image/png": "[encoded data removed]",
      "text/plain": [
       "<Figure size 720x576 with 1 Axes>"
      ]
     },
     "metadata": {
      "needs_background": "light"
     },
     "output_type": "display_data"
    }
   ],
   "source": [
    "age_normal_a1cresult_2=data[data[\"A1Cresult\"]==2]\n",
    "age_normal_a1cresult_2_med_yes=age_normal_a1cresult_2[age_normal_a1cresult_2[\"diabetesMed\"]==1]\n",
    "\n",
    "age_normal_a1cresult_2_med_no=age_normal_a1cresult_2[age_normal_a1cresult_2[\"diabetesMed\"]==0]\n",
    "\n",
    "# age_normal_a1cresult_3=data[data[\"A1Cresult\"]==3]\n",
    "# age_normal_a1cresult_3_med_yes=data[data[\"A1Cresult\"]==3]\n",
    "plt.figure(figsize=(10,8))\n",
    "subplot(2, 1, 1)\n",
    "#plt.title(\"Middle Age vs diabetes(for severe <8)\")\n",
    "age_normal_a1cresult_2_med_yes[\"readmitted\"].plot(kind=\"hist\")\n",
    "plt.title(\"Normal Ages vs diabetes(for severe <7) with diabetes_med==yes\")\n",
    "plt.figure(figsize=(10,8))\n",
    "subplot(2,1,2)\n",
    "age_normal_a1cresult_2_med_no[\"readmitted\"].plot(kind=\"hist\",color=\"lightblue\")\n",
    "plt.title(\"Normal Age vs diabetes(for severe <7)with diabetes_med==no\")"
   ]
  },
  {
   "cell_type": "code",
   "execution_count": 25,
   "metadata": {},
   "outputs": [
    {
     "data": {
      "text/plain": [
       "Text(0.5, 1.0, 'Admission rate Normal Age vs diabetes(for severe >8)with diabetes_med==no')"
      ]
     },
     "execution_count": 25,
     "metadata": {},
     "output_type": "execute_result"
    },
    {
     "data": {
      "image/png": "[encoded data removed]",
      "text/plain": [
       "<Figure size 720x576 with 1 Axes>"
      ]
     },
     "metadata": {
      "needs_background": "light"
     },
     "output_type": "display_data"
    },
    {
     "data": {
      "image/png": "[encoded data removed]",
      "text/plain": [
       "<Figure size 720x576 with 1 Axes>"
      ]
     },
     "metadata": {
      "needs_background": "light"
     },
     "output_type": "display_data"
    }
   ],
   "source": [
    "age_normal_a1cresult_3=data[data[\"A1Cresult\"]==3]\n",
    "age_normal_a1cresult_3_med_yes=age_between_30_90_a1cresult_3[age_between_30_90_a1cresult_3[\"diabetesMed\"]==1]\n",
    "\n",
    "age_normal_a1cresult_3_med_no=age_normal_a1cresult_3[age_normal_a1cresult_3[\"diabetesMed\"]==0]\n",
    "\n",
    "# age_normal_a1cresult_3=data[data[\"A1Cresult\"]==3]\n",
    "# age_normal_a1cresult_3_med_yes=data[data[\"A1Cresult\"]==3]\n",
    "plt.figure(figsize=(10,8))\n",
    "subplot(2, 1, 1)\n",
    "#plt.title(\"Middle Age vs diabetes(for severe <8)\")\n",
    "age_normal_a1cresult_3_med_yes[\"readmitted\"].plot(kind=\"hist\")\n",
    "plt.title(\"Admission rate Normal Ages vs diabetes(for severe >8) with diabetes_med==yes\")\n",
    "plt.figure(figsize=(10,8))\n",
    "subplot(2,1,2)\n",
    "age_normal_a1cresult_3_med_no[\"readmitted\"].plot(kind=\"hist\",color=\"lightblue\")\n",
    "plt.title(\"Admission rate Normal Age vs diabetes(for severe >8)with diabetes_med==no\")"
   ]
  },
  {
   "cell_type": "code",
   "execution_count": null,
   "metadata": {},
   "outputs": [],
   "source": []
  },
  {
   "cell_type": "code",
   "execution_count": null,
   "metadata": {},
   "outputs": [],
   "source": []
  },
  {
   "cell_type": "code",
   "execution_count": null,
   "metadata": {},
   "outputs": [],
   "source": []
  },
  {
   "cell_type": "code",
   "execution_count": null,
   "metadata": {},
   "outputs": [],
   "source": []
  },
  {
   "cell_type": "code",
   "execution_count": null,
   "metadata": {},
   "outputs": [],
   "source": []
  },
  {
   "cell_type": "code",
   "execution_count": null,
   "metadata": {},
   "outputs": [],
   "source": []
  },
  {
   "cell_type": "code",
   "execution_count": null,
   "metadata": {},
   "outputs": [],
   "source": []
  },
  {
   "cell_type": "code",
   "execution_count": null,
   "metadata": {},
   "outputs": [],
   "source": []
  },
  {
   "cell_type": "code",
   "execution_count": null,
   "metadata": {},
   "outputs": [],
   "source": []
  },
  {
   "cell_type": "code",
   "execution_count": null,
   "metadata": {},
   "outputs": [],
   "source": [
    "# data_females_lessthan30=data[data[\"gender\"]==1]\n",
    "# data_females_lessthan30[\"A1Cresult\"]=data_females_lessthan30[\"A1Cresult\"].astype(\"int16\")\n",
    "# females_quantity=data_females_lessthan30.shape[0]\n",
    "# data_females_lessthan30=data_females_lessthan30[data_females_lessthan30[\"readmitted\"]==1]\n",
    "# plt.figure(figsize=(10,6))\n",
    "# plt.title(\"Out of {} females {} are readmitted and most of them are suffering from type2 diabetes also got readmitted in more than 30 days\"\n",
    "#           .format(females_quantity,(data_females_lessthan30.shape[0])))\n",
    "# # sns.his(x=data_females_lessthan30[\"age\"],y=data_females_lessthan30[\"num_lab_procedures\"],hue=\n",
    "# #             data_females_lessthan30[\"A1Cresult\"])\n",
    "# data_females_lessthan30[\"A1Cresult\"].plot(kind='hist')\n",
    "# #plt.legend()\n",
    "# plt.xlabel(\"Age Range\")\n",
    "# #plt.yticks(ticks=[1.0,2.0,3.0])\n",
    "# #plt.ylabel(\"Type of diabetes-1:high,2:very high 3:normal\")\n",
    "# #print(data_females_lessthan30.shape)\n",
    "# #data_females_lessthan30[\"A1Cresult\"].value_counts()\n",
    "# #conclusion:=very high diabetic people are having more chances \n",
    "\n",
    "# data_females_lessthan30=data[data[\"gender\"]==1]\n",
    "# females_quantity=data_females_lessthan30.shape[0]\n",
    "# data_females_lessthan30=data_females_lessthan30[data_females_lessthan30[\"readmitted\"]==1]\n",
    "# plt.figure(figsize=(10,6))\n",
    "# plt.title(\"Out of {} females {} are readmitted and most of them are suffering from type2 diabetes diabetes and also got readmitted in more than 30 days\"\n",
    "#           .format(females_quantity,(data_females_lessthan30.shape[0])))\n",
    "# sns.barplot(data_females_lessthan30[\"age\"],y=data_females_lessthan30[\"num_lab_procedures\"],hue=data_females_lessthan30[\"A1Cresult\"])\n",
    "# plt.xlabel(\"Age Range\")\n",
    "# #plt.yticks(ticks=[1.0,2.0,3.0])\n",
    "# plt.ylabel(\"Type of diabetes-1:high,2:very high 3:normal\")\n",
    "# #conclusion:=very high diabetic people are having more chances \n",
    "\n",
    "\n",
    "\n",
    "# data_females_lessthan30=data[data[\"gender\"]==1]\n",
    "# females_quantity=data_females_lessthan30.shape[0]\n",
    "# data_females_lessthan30=data_females_lessthan30[data_females_lessthan30[\"readmitted\"]==2]\n",
    "# plt.figure(figsize=(10,6))\n",
    "# plt.title(\"Out of {} females {} are readmitted and most of them are suffering from type2 diabetes and are readmitted in less than 30 days\"\n",
    "#           .format(females_quantity,(data_females_lessthan30.shape[0])))\n",
    "# data_females_lessthan30[\"A1Cresult\"].plot(kind='hist')\n",
    "# plt.xlabel(\"Age Range\")\n",
    "# plt.ylabel(\"Type of diabetes-1:high,2:very high 3:normal\")\n",
    "\n",
    "# #conclusion:=very high diabetic people are having more chances \n",
    "\n",
    "\n",
    "# data_females_lessthan30=data[data[\"gender\"]==1]\n",
    "# females_quantity=data_females_lessthan30.shape[0]\n",
    "# data_females_lessthan30=data_females_lessthan30[data_females_lessthan30[\"readmitted\"]==2]\n",
    "# plt.figure(figsize=(10,6))\n",
    "# plt.title(\"Out of {} females {} are readmitted and most of them are suffering from type2 diabetes and are readmitted in less than 30 days\"\n",
    "#           .format(females_quantity,(data_females_lessthan30.shape[0])))\n",
    "# sns.barplot(data_females_lessthan30[\"age\"],y=data_females_lessthan30[\"num_lab_procedures\"],hue=data_females_lessthan30[\"A1Cresult\"])\n",
    "# plt.xlabel(\"Age Range\")\n",
    "# plt.ylabel(\"Type of diabetes-1:high,2:very high 3:normal\")\n",
    "\n",
    "# #conclusion:=very high diabetic people are having more chances \n",
    "\n",
    "\n",
    "# data_males=data[data[\"gender\"]==2]\n",
    "# males_quantity=data_males.shape[0]\n",
    "# plt.figure(figsize=(10,6))\n",
    "# plt.title(\"Out of {} Males {} males have normal diabetes,{} have severe and {} have most severe\"\n",
    "#           .format(males_quantity,\n",
    "#                   (data_males[\"A1Cresult\"][data_males[\"A1Cresult\"]==3].count()),\n",
    "#                   (data_males[\"A1Cresult\"][data_males[\"A1Cresult\"]==1].count()),\n",
    "#                   (data_males[\"A1Cresult\"][data_males[\"A1Cresult\"]==2].count())))\n",
    "\n",
    "# data_males[\"A1Cresult\"].plot(kind='hist',color=\"green\")\n",
    "# plt.xlabel(\"(Category of Diabetes)1:severe,2:more severe,3:normal\")\n",
    "# plt.xticks(ticks=[1.0,2.0,3.0])\n",
    "# plt.ylabel(\"Number of persons suffering\")\n",
    "\n",
    "\n",
    "# data_males_lessthan30=data[data[\"gender\"]==2]\n",
    "# males_quantity=data_males_lessthan30.shape[0]\n",
    "# data_males_lessthan30=data_males_lessthan30[data_males_lessthan30[\"readmitted\"]==0]\n",
    "# plt.figure(figsize=(10,6))\n",
    "# plt.title(\"Out of {} males {} are readmitted and most of them are suffering from type2 diabetes and are not readmitted\"\n",
    "#           .format(males_quantity,(data_males_lessthan30.shape[0])))\n",
    "# data_males_lessthan30[\"A1Cresult\"].plot(kind='hist')\n",
    "# plt.xlabel(\"Age Range\")\n",
    "# #plt.yticks(ticks=[1.0,2.0,3.0])\n",
    "# plt.ylabel(\"Type of diabetes-1:high,2:very high 3:normal\")\n",
    "\n",
    "# #conclusion:=very high diabetic people are having more chances \n",
    "\n",
    "\n",
    "# data_males_lessthan30=data[data[\"gender\"]==2]\n",
    "# males_quantity=data_males_lessthan30.shape[0]\n",
    "# data_males_lessthan30=data_males_lessthan30[data_males_lessthan30[\"readmitted\"]==1]\n",
    "# plt.figure(figsize=(10,6))\n",
    "# plt.title(\"Out of {} Males {} are readmitted and most of them are suffering from type2 diabetes and also got readmitted in more than 30 days\"\n",
    "#           .format(males_quantity,(data_males_lessthan30.shape[0])))\n",
    "# data_males_lessthan30[\"A1Cresult\"].plot(kind=\"hist\")\n",
    "# plt.xlabel(\"Age Range\")\n",
    "# #plt.yticks(ticks=[1.0,2.0,3.0])\n",
    "# plt.ylabel(\"Type of diabetes-1:high,2:very high 3:normal\")\n",
    "\n",
    "# #conclusion:=very high diabetic people are having more chances \n",
    "\n",
    "\n",
    "\n",
    "\n",
    "# data_males_lessthan30=data[data[\"gender\"]==2]\n",
    "# males_quantity=data_males_lessthan30.shape[0]\n",
    "# data_males_lessthan30=data_males_lessthan30[data_males_lessthan30[\"readmitted\"]==0]\n",
    "# plt.figure(figsize=(10,6))\n",
    "# plt.title(\"Out of {} males {} are readmitted and most of them are suffering from type2 diabetes and are not readmitted\"\n",
    "#           .format(males_quantity,(data_males_lessthan30.shape[0])))\n",
    "# sns.barplot(data_males_lessthan30[\"age\"],data_males_lessthan30[\"num_lab_procedures\"],hue=data_males_lessthan30[\"A1Cresult\"])\n",
    "# plt.xlabel(\"Age Range\")\n",
    "# #plt.yticks(ticks=[1.0,2.0,3.0])\n",
    "# plt.ylabel(\"Type of diabetes-1:high,2:very high 3:normal\")\n",
    "\n",
    "# #conclusion:=very high diabetic people are having more chances \n",
    "\n",
    "\n",
    "\n",
    "# data_males_lessthan30=data[data[\"gender\"]==2]\n",
    "# males_quantity=data_males_lessthan30.shape[0]\n",
    "# data_males_lessthan30=data_males_lessthan30[data_males_lessthan30[\"readmitted\"]==1]\n",
    "# plt.figure(figsize=(10,6))\n",
    "# plt.title(\"Out of {} Males {} are readmitted and most of them are suffering from type2 diabetes and also got readmitted in more than 30 days\"\n",
    "#           .format(males_quantity,(data_males_lessthan30.shape[0])))\n",
    "# sns.barplot(data_males_lessthan30[\"age\"],data_males_lessthan30[\"num_lab_procedures\"],hue=data_males_lessthan30[\"A1Cresult\"])\n",
    "# plt.xlabel(\"Age Range\")\n",
    "# #plt.yticks(ticks=[1.0,2.0,3.0])\n",
    "# plt.ylabel(\"Type of diabetes-1:high,2:very high 3:normal\")\n",
    "\n",
    "# #conclusion:=very high diabetic people are having more chances \n",
    "# data_males_lessthan30=data[data[\"gender\"]==2]\n",
    "# males_quantity=data_males_lessthan30.shape[0]\n",
    "# data_males_lessthan30=data_males_lessthan30[data_males_lessthan30[\"readmitted\"]==2]\n",
    "# plt.figure(figsize=(10,6))\n",
    "# plt.title(\"Out of {} Males {} are readmitted and most of them are suffering from type2 diabetes and also got readmitted in less than 30 days\"\n",
    "#           .format(males_quantity,(data_males_lessthan30.shape[0])))\n",
    "# data_males_lessthan30[\"A1Cresult\"].plot(kind=\"hist\")\n",
    "# plt.xlabel(\"Age Range\")\n",
    "# #plt.yticks(ticks=[1.0,2.0,3.0])\n",
    "# plt.ylabel(\"Type of diabetes-1:high,2:very high 3:normal\")\n",
    "\n",
    "# #conclusion:=very high diabetic people are having more chances \n",
    "# data_males_lessthan30=data[data[\"gender\"]==2]\n",
    "# males_quantity=data_males_lessthan30.shape[0]\n",
    "# data_males_lessthan30=data_males_lessthan30[data_males_lessthan30[\"readmitted\"]==2]\n",
    "# plt.figure(figsize=(10,6))\n",
    "# plt.title(\"Out of {} Males {} are readmitted and most of them are suffering from type2 diabetes and also got readmitted in less than 30 days\"\n",
    "#           .format(males_quantity,(data_males_lessthan30.shape[0])))\n",
    "# sns.barplot(data_males_lessthan30[\"age\"],data_males_lessthan30[\"num_lab_procedures\"],hue=data_males_lessthan30[\"A1Cresult\"])\n",
    "# plt.xlabel(\"Age Range\")\n",
    "# #plt.yticks(ticks=[1.0,2.0,3.0])\n",
    "# plt.ylabel(\"Type of diabetes-1:high,2:very high 3:normal\")\n",
    "\n",
    "# #conclusion:=very high diabetic people are having more chances \n",
    "\n",
    "\n",
    "\n",
    "\n",
    "\n"
   ]
  },
  {
   "cell_type": "code",
   "execution_count": null,
   "metadata": {},
   "outputs": [],
   "source": []
  },
  {
   "cell_type": "code",
   "execution_count": null,
   "metadata": {},
   "outputs": [],
   "source": []
  },
  {
   "cell_type": "code",
   "execution_count": null,
   "metadata": {},
   "outputs": [],
   "source": []
  },
  {
   "cell_type": "code",
   "execution_count": null,
   "metadata": {},
   "outputs": [],
   "source": []
  },
  {
   "cell_type": "code",
   "execution_count": null,
   "metadata": {},
   "outputs": [],
   "source": []
  },
  {
   "cell_type": "code",
   "execution_count": null,
   "metadata": {},
   "outputs": [],
   "source": []
  },
  {
   "cell_type": "code",
   "execution_count": null,
   "metadata": {},
   "outputs": [],
   "source": []
  },
  {
   "cell_type": "code",
   "execution_count": null,
   "metadata": {},
   "outputs": [],
   "source": []
  },
  {
   "cell_type": "code",
   "execution_count": null,
   "metadata": {},
   "outputs": [],
   "source": []
  },
  {
   "cell_type": "code",
   "execution_count": null,
   "metadata": {},
   "outputs": [],
   "source": []
  }
 ],
 "metadata": {
  "kernelspec": {
   "display_name": "Python 3",
   "language": "python",
   "name": "python3"
  },
  "language_info": {
   "codemirror_mode": {
    "name": "ipython",
    "version": 3
   },
   "file_extension": ".py",
   "mimetype": "text/x-python",
   "name": "python",
   "nbconvert_exporter": "python",
   "pygments_lexer": "ipython3",
   "version": "3.7.4"
  }
 },
 "nbformat": 4,
 "nbformat_minor": 2
}
